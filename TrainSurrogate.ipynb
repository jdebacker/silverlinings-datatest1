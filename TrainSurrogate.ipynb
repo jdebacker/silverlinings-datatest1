{
  "cells": [
    {
      "cell_type": "markdown",
      "metadata": {
        "id": "BSp0qK7iPot9"
      },
      "source": [
        "This notebook trains a surrogate model using TensorFlow.  The resulting model is then saved and converted to a TensorFlowJS format.  The model is then loaded and used to make predictions on new data on a webpage.\n",
        "\n",
        "To run this notebooks, use the `ws-env` virtual environment, which can be built using the `environment.yml` file located in the same directory as this notebook."
      ]
    },
    {
      "cell_type": "code",
      "execution_count": 1,
      "metadata": {
        "id": "Fyk7fzYbPQFL"
      },
      "outputs": [],
      "source": [
        "# imports\n",
        "import numpy as np\n",
        "import pandas as pd\n",
        "import tensorflow as tf\n",
        "from tensorflow import keras\n",
        "from sklearn.model_selection import train_test_split\n"
      ]
    },
    {
      "cell_type": "code",
      "execution_count": 2,
      "metadata": {
        "id": "t1TFVbEKPfGS"
      },
      "outputs": [],
      "source": [
        "# Read in training data\n",
        "df = pd.read_csv('ExampleData.csv')\n",
        "# Split the X and y variables\n",
        "X = df[[\"r\", \"age\", \"start_year\", \"num_years\", \"mortality\", \"fertility\", \"productivity\"]].values\n",
        "y = df[[\"NPV_100\", \"GDP_20\"]].values"
      ]
    },
    {
      "cell_type": "code",
      "execution_count": 3,
      "metadata": {
        "id": "P0N_RZ_uQwlD"
      },
      "outputs": [],
      "source": [
        "# train-test split for model evaluation\n",
        "X_train, X_test, y_train, y_test = train_test_split(\n",
        "    X, y, train_size=0.7, shuffle=True\n",
        ")"
      ]
    },
    {
      "cell_type": "code",
      "execution_count": 4,
      "metadata": {
        "colab": {
          "base_uri": "https://localhost:8080/"
        },
        "id": "uQHZPxxUUTSr",
        "outputId": "8c45ebd7-070a-49a4-c884-61f2becfce27"
      },
      "outputs": [
        {
          "name": "stdout",
          "output_type": "stream",
          "text": [
            "Dimensions of each layer are [7, 70, 70, 2]\n"
          ]
        }
      ],
      "source": [
        "# Layer setting\n",
        "num_input = X.shape[1]\n",
        "num_hidden1 = 10 * num_input\n",
        "num_hidden2 = 10 * num_input\n",
        "num_output = y.shape[1]\n",
        "layers_dim = [num_input, num_hidden1, num_hidden2, num_output]\n",
        "print(\"Dimensions of each layer are {}\".format(layers_dim))"
      ]
    },
    {
      "cell_type": "code",
      "execution_count": 5,
      "metadata": {
        "colab": {
          "base_uri": "https://localhost:8080/"
        },
        "id": "cCfX3ZOIUhxG",
        "outputId": "701fa694-4989-479e-b02e-83f644e0cede"
      },
      "outputs": [
        {
          "name": "stdout",
          "output_type": "stream",
          "text": [
            "Model: \"sequential\"\n",
            "_________________________________________________________________\n",
            " Layer (type)                Output Shape              Param #   \n",
            "=================================================================\n",
            " dense (Dense)               (None, 70)                560       \n",
            "                                                                 \n",
            " dense_1 (Dense)             (None, 70)                4970      \n",
            "                                                                 \n",
            " dense_2 (Dense)             (None, 2)                 142       \n",
            "                                                                 \n",
            "=================================================================\n",
            "Total params: 5672 (22.16 KB)\n",
            "Trainable params: 5672 (22.16 KB)\n",
            "Non-trainable params: 0 (0.00 Byte)\n",
            "_________________________________________________________________\n",
            "None\n"
          ]
        }
      ],
      "source": [
        "# Define the neural network\n",
        "# We use [Keras](https://www.tensorflow.org/guide/keras) to define the\n",
        "# neural network\n",
        "nn = tf.keras.Sequential(\n",
        "    [\n",
        "        keras.layers.Dense(\n",
        "            num_hidden1, activation=\"relu\", input_shape=(num_input,)\n",
        "        ),\n",
        "        keras.layers.Dense(num_hidden2, activation=\"relu\"),\n",
        "        keras.layers.Dense(num_output),\n",
        "    ]\n",
        ")\n",
        "print(nn.summary())"
      ]
    },
    {
      "cell_type": "code",
      "execution_count": 6,
      "metadata": {
        "id": "YRwvbbr0XIbf"
      },
      "outputs": [],
      "source": [
        "loss_fn = tf.keras.losses.MeanSquaredError()\n",
        "nn.compile(optimizer='adam',\n",
        "              loss=loss_fn,\n",
        "              metrics=['accuracy'])"
      ]
    },
    {
      "cell_type": "code",
      "execution_count": 7,
      "metadata": {
        "colab": {
          "base_uri": "https://localhost:8080/"
        },
        "id": "uocp6D3OYKU3",
        "outputId": "97d76a36-fb36-4cc8-c2e1-475e47b76bee"
      },
      "outputs": [
        {
          "name": "stdout",
          "output_type": "stream",
          "text": [
            "Epoch 1/200\n",
            "354/354 [==============================] - 0s 597us/step - loss: 5.3187 - accuracy: 0.6718\n",
            "Epoch 2/200\n",
            "354/354 [==============================] - 0s 566us/step - loss: 0.3811 - accuracy: 0.7154\n",
            "Epoch 3/200\n",
            "354/354 [==============================] - 0s 733us/step - loss: 0.1865 - accuracy: 0.7197\n",
            "Epoch 4/200\n",
            "354/354 [==============================] - 0s 965us/step - loss: 0.0924 - accuracy: 0.7309\n",
            "Epoch 5/200\n",
            "354/354 [==============================] - 0s 648us/step - loss: 0.0429 - accuracy: 0.7473\n",
            "Epoch 6/200\n",
            "354/354 [==============================] - 0s 792us/step - loss: 0.0213 - accuracy: 0.7538\n",
            "Epoch 7/200\n",
            "354/354 [==============================] - 0s 764us/step - loss: 0.0117 - accuracy: 0.7597\n",
            "Epoch 8/200\n",
            "354/354 [==============================] - 0s 646us/step - loss: 0.0074 - accuracy: 0.7611\n",
            "Epoch 9/200\n",
            "354/354 [==============================] - 0s 633us/step - loss: 0.0055 - accuracy: 0.7613\n",
            "Epoch 10/200\n",
            "354/354 [==============================] - 0s 851us/step - loss: 0.0038 - accuracy: 0.7603\n",
            "Epoch 11/200\n",
            "354/354 [==============================] - 0s 725us/step - loss: 0.0034 - accuracy: 0.7598\n",
            "Epoch 12/200\n",
            "354/354 [==============================] - 0s 803us/step - loss: 0.0034 - accuracy: 0.7611\n",
            "Epoch 13/200\n",
            "354/354 [==============================] - 0s 666us/step - loss: 0.0031 - accuracy: 0.7562\n",
            "Epoch 14/200\n",
            "354/354 [==============================] - 0s 758us/step - loss: 0.0041 - accuracy: 0.7538\n",
            "Epoch 15/200\n",
            "354/354 [==============================] - 0s 613us/step - loss: 0.0053 - accuracy: 0.7565\n",
            "Epoch 16/200\n",
            "354/354 [==============================] - 0s 605us/step - loss: 0.0042 - accuracy: 0.7535\n",
            "Epoch 17/200\n",
            "354/354 [==============================] - 0s 605us/step - loss: 0.0028 - accuracy: 0.7473\n",
            "Epoch 18/200\n",
            "354/354 [==============================] - 0s 722us/step - loss: 0.0039 - accuracy: 0.7439\n",
            "Epoch 19/200\n",
            "354/354 [==============================] - 0s 627us/step - loss: 0.0030 - accuracy: 0.7469\n",
            "Epoch 20/200\n",
            "354/354 [==============================] - 0s 626us/step - loss: 0.0039 - accuracy: 0.7506\n",
            "Epoch 21/200\n",
            "354/354 [==============================] - 0s 624us/step - loss: 0.0028 - accuracy: 0.7567\n",
            "Epoch 22/200\n",
            "354/354 [==============================] - 0s 615us/step - loss: 0.0046 - accuracy: 0.7504\n",
            "Epoch 23/200\n",
            "354/354 [==============================] - 0s 651us/step - loss: 0.0031 - accuracy: 0.7488\n",
            "Epoch 24/200\n",
            "354/354 [==============================] - 0s 596us/step - loss: 0.0032 - accuracy: 0.7573\n",
            "Epoch 25/200\n",
            "354/354 [==============================] - 0s 590us/step - loss: 0.0061 - accuracy: 0.7450\n",
            "Epoch 26/200\n",
            "354/354 [==============================] - 0s 604us/step - loss: 0.0010 - accuracy: 0.7514\n",
            "Epoch 27/200\n",
            "354/354 [==============================] - 0s 820us/step - loss: 0.0061 - accuracy: 0.7522\n",
            "Epoch 28/200\n",
            "354/354 [==============================] - 0s 577us/step - loss: 0.0021 - accuracy: 0.7591\n",
            "Epoch 29/200\n",
            "354/354 [==============================] - 0s 567us/step - loss: 0.0016 - accuracy: 0.7533\n",
            "Epoch 30/200\n",
            "354/354 [==============================] - 0s 565us/step - loss: 0.0035 - accuracy: 0.7529\n",
            "Epoch 31/200\n",
            "354/354 [==============================] - 0s 572us/step - loss: 0.0070 - accuracy: 0.7504\n",
            "Epoch 32/200\n",
            "354/354 [==============================] - 0s 584us/step - loss: 0.0011 - accuracy: 0.7498\n",
            "Epoch 33/200\n",
            "354/354 [==============================] - 0s 707us/step - loss: 0.0023 - accuracy: 0.7584\n",
            "Epoch 34/200\n",
            "354/354 [==============================] - 0s 587us/step - loss: 0.0037 - accuracy: 0.7531\n",
            "Epoch 35/200\n",
            "354/354 [==============================] - 0s 567us/step - loss: 0.0015 - accuracy: 0.7507\n",
            "Epoch 36/200\n",
            "354/354 [==============================] - 0s 583us/step - loss: 0.0101 - accuracy: 0.7513\n",
            "Epoch 37/200\n",
            "354/354 [==============================] - 0s 584us/step - loss: 0.0013 - accuracy: 0.7501\n",
            "Epoch 38/200\n",
            "354/354 [==============================] - 0s 575us/step - loss: 0.0049 - accuracy: 0.7471\n",
            "Epoch 39/200\n",
            "354/354 [==============================] - 0s 559us/step - loss: 7.8210e-04 - accuracy: 0.7557\n",
            "Epoch 40/200\n",
            "354/354 [==============================] - 0s 563us/step - loss: 0.0018 - accuracy: 0.7495\n",
            "Epoch 41/200\n",
            "354/354 [==============================] - 0s 587us/step - loss: 0.0023 - accuracy: 0.7620\n",
            "Epoch 42/200\n",
            "354/354 [==============================] - 0s 635us/step - loss: 0.0064 - accuracy: 0.7576\n",
            "Epoch 43/200\n",
            "354/354 [==============================] - 0s 602us/step - loss: 5.9202e-04 - accuracy: 0.7534\n",
            "Epoch 44/200\n",
            "354/354 [==============================] - 0s 598us/step - loss: 0.0041 - accuracy: 0.7555\n",
            "Epoch 45/200\n",
            "354/354 [==============================] - 0s 630us/step - loss: 0.0016 - accuracy: 0.7552\n",
            "Epoch 46/200\n",
            "354/354 [==============================] - 0s 615us/step - loss: 0.0058 - accuracy: 0.7552\n",
            "Epoch 47/200\n",
            "354/354 [==============================] - 0s 606us/step - loss: 0.0012 - accuracy: 0.7519\n",
            "Epoch 48/200\n",
            "354/354 [==============================] - 0s 598us/step - loss: 9.9256e-04 - accuracy: 0.7504\n",
            "Epoch 49/200\n",
            "354/354 [==============================] - 0s 625us/step - loss: 0.0093 - accuracy: 0.7460\n",
            "Epoch 50/200\n",
            "354/354 [==============================] - 0s 654us/step - loss: 4.1465e-04 - accuracy: 0.7540\n",
            "Epoch 51/200\n",
            "354/354 [==============================] - 0s 779us/step - loss: 6.6457e-04 - accuracy: 0.7577\n",
            "Epoch 52/200\n",
            "354/354 [==============================] - 0s 759us/step - loss: 0.0033 - accuracy: 0.7459\n",
            "Epoch 53/200\n",
            "354/354 [==============================] - 0s 722us/step - loss: 0.0018 - accuracy: 0.7505\n",
            "Epoch 54/200\n",
            "354/354 [==============================] - 0s 904us/step - loss: 8.9816e-04 - accuracy: 0.7565\n",
            "Epoch 55/200\n",
            "354/354 [==============================] - 0s 642us/step - loss: 0.0037 - accuracy: 0.7523\n",
            "Epoch 56/200\n",
            "354/354 [==============================] - 0s 590us/step - loss: 0.0016 - accuracy: 0.7599\n",
            "Epoch 57/200\n",
            "354/354 [==============================] - 0s 687us/step - loss: 0.0073 - accuracy: 0.7503\n",
            "Epoch 58/200\n",
            "354/354 [==============================] - 0s 620us/step - loss: 4.5094e-04 - accuracy: 0.7587\n",
            "Epoch 59/200\n",
            "354/354 [==============================] - 0s 650us/step - loss: 3.3204e-04 - accuracy: 0.7491\n",
            "Epoch 60/200\n",
            "354/354 [==============================] - 0s 807us/step - loss: 0.0069 - accuracy: 0.7504\n",
            "Epoch 61/200\n",
            "354/354 [==============================] - 0s 706us/step - loss: 2.5662e-04 - accuracy: 0.7606\n",
            "Epoch 62/200\n",
            "354/354 [==============================] - 0s 715us/step - loss: 3.4003e-04 - accuracy: 0.7571\n",
            "Epoch 63/200\n",
            "354/354 [==============================] - 0s 650us/step - loss: 0.0028 - accuracy: 0.7538\n",
            "Epoch 64/200\n",
            "354/354 [==============================] - 0s 597us/step - loss: 0.0033 - accuracy: 0.7534\n",
            "Epoch 65/200\n",
            "354/354 [==============================] - 0s 615us/step - loss: 0.0067 - accuracy: 0.7537\n",
            "Epoch 66/200\n",
            "354/354 [==============================] - 0s 597us/step - loss: 1.9865e-04 - accuracy: 0.7641\n",
            "Epoch 67/200\n",
            "354/354 [==============================] - 0s 624us/step - loss: 0.0014 - accuracy: 0.7498\n",
            "Epoch 68/200\n",
            "354/354 [==============================] - 0s 619us/step - loss: 7.6556e-04 - accuracy: 0.7503\n",
            "Epoch 69/200\n",
            "354/354 [==============================] - 0s 611us/step - loss: 0.0018 - accuracy: 0.7511\n",
            "Epoch 70/200\n",
            "354/354 [==============================] - 0s 595us/step - loss: 0.0039 - accuracy: 0.7469\n",
            "Epoch 71/200\n",
            "354/354 [==============================] - 0s 611us/step - loss: 5.3745e-04 - accuracy: 0.7595\n",
            "Epoch 72/200\n",
            "354/354 [==============================] - 0s 605us/step - loss: 0.0042 - accuracy: 0.7482\n",
            "Epoch 73/200\n",
            "354/354 [==============================] - 0s 601us/step - loss: 2.7110e-04 - accuracy: 0.7496\n",
            "Epoch 74/200\n",
            "354/354 [==============================] - 0s 609us/step - loss: 0.0018 - accuracy: 0.7489\n",
            "Epoch 75/200\n",
            "354/354 [==============================] - 0s 596us/step - loss: 0.0012 - accuracy: 0.7579\n",
            "Epoch 76/200\n",
            "354/354 [==============================] - 0s 622us/step - loss: 0.0019 - accuracy: 0.7468\n",
            "Epoch 77/200\n",
            "354/354 [==============================] - 0s 597us/step - loss: 0.0021 - accuracy: 0.7505\n",
            "Epoch 78/200\n",
            "354/354 [==============================] - 0s 640us/step - loss: 0.0045 - accuracy: 0.7529\n",
            "Epoch 79/200\n",
            "354/354 [==============================] - 0s 709us/step - loss: 2.2912e-04 - accuracy: 0.7523\n",
            "Epoch 80/200\n",
            "354/354 [==============================] - 0s 714us/step - loss: 7.2061e-04 - accuracy: 0.7501\n",
            "Epoch 81/200\n",
            "354/354 [==============================] - 0s 618us/step - loss: 0.0025 - accuracy: 0.7542\n",
            "Epoch 82/200\n",
            "354/354 [==============================] - 0s 605us/step - loss: 0.0034 - accuracy: 0.7572\n",
            "Epoch 83/200\n",
            "354/354 [==============================] - 0s 694us/step - loss: 2.3217e-04 - accuracy: 0.7572\n",
            "Epoch 84/200\n",
            "354/354 [==============================] - 0s 597us/step - loss: 0.0019 - accuracy: 0.7473\n",
            "Epoch 85/200\n",
            "354/354 [==============================] - 0s 639us/step - loss: 0.0013 - accuracy: 0.7584\n",
            "Epoch 86/200\n",
            "354/354 [==============================] - 0s 611us/step - loss: 0.0109 - accuracy: 0.7445\n",
            "Epoch 87/200\n",
            "354/354 [==============================] - 0s 638us/step - loss: 3.1902e-04 - accuracy: 0.7602\n",
            "Epoch 88/200\n",
            "354/354 [==============================] - 0s 592us/step - loss: 1.2182e-04 - accuracy: 0.7554\n",
            "Epoch 89/200\n",
            "354/354 [==============================] - 0s 840us/step - loss: 1.3412e-04 - accuracy: 0.7550\n",
            "Epoch 90/200\n",
            "354/354 [==============================] - 0s 623us/step - loss: 7.0425e-04 - accuracy: 0.7532\n",
            "Epoch 91/200\n",
            "354/354 [==============================] - 0s 601us/step - loss: 0.0014 - accuracy: 0.7550\n",
            "Epoch 92/200\n",
            "354/354 [==============================] - 0s 617us/step - loss: 0.0032 - accuracy: 0.7582\n",
            "Epoch 93/200\n",
            "354/354 [==============================] - 0s 607us/step - loss: 6.5007e-04 - accuracy: 0.7559\n",
            "Epoch 94/200\n",
            "354/354 [==============================] - 0s 613us/step - loss: 8.6606e-04 - accuracy: 0.7458\n",
            "Epoch 95/200\n",
            "354/354 [==============================] - 0s 597us/step - loss: 0.0020 - accuracy: 0.7553\n",
            "Epoch 96/200\n",
            "354/354 [==============================] - 0s 650us/step - loss: 7.2207e-04 - accuracy: 0.7428\n",
            "Epoch 97/200\n",
            "354/354 [==============================] - 0s 589us/step - loss: 0.0015 - accuracy: 0.7550\n",
            "Epoch 98/200\n",
            "354/354 [==============================] - 0s 625us/step - loss: 0.0018 - accuracy: 0.7556\n",
            "Epoch 99/200\n",
            "354/354 [==============================] - 0s 603us/step - loss: 0.0015 - accuracy: 0.7587\n",
            "Epoch 100/200\n",
            "354/354 [==============================] - 0s 600us/step - loss: 6.5108e-04 - accuracy: 0.7537\n",
            "Epoch 101/200\n",
            "354/354 [==============================] - 0s 685us/step - loss: 0.0014 - accuracy: 0.7484\n",
            "Epoch 102/200\n",
            "354/354 [==============================] - 0s 597us/step - loss: 0.0014 - accuracy: 0.7498\n",
            "Epoch 103/200\n",
            "354/354 [==============================] - 0s 624us/step - loss: 5.1027e-04 - accuracy: 0.7630\n",
            "Epoch 104/200\n",
            "354/354 [==============================] - 0s 602us/step - loss: 0.0010 - accuracy: 0.7465\n",
            "Epoch 105/200\n",
            "354/354 [==============================] - 0s 648us/step - loss: 0.0023 - accuracy: 0.7539\n",
            "Epoch 106/200\n",
            "354/354 [==============================] - 0s 593us/step - loss: 1.5867e-04 - accuracy: 0.7528\n",
            "Epoch 107/200\n",
            "354/354 [==============================] - 0s 603us/step - loss: 0.0014 - accuracy: 0.7578\n",
            "Epoch 108/200\n",
            "354/354 [==============================] - 0s 707us/step - loss: 7.5735e-04 - accuracy: 0.7511\n",
            "Epoch 109/200\n",
            "354/354 [==============================] - 0s 598us/step - loss: 0.0024 - accuracy: 0.7531\n",
            "Epoch 110/200\n",
            "354/354 [==============================] - 0s 608us/step - loss: 1.4320e-04 - accuracy: 0.7592\n",
            "Epoch 111/200\n",
            "354/354 [==============================] - 0s 626us/step - loss: 0.0016 - accuracy: 0.7550\n",
            "Epoch 112/200\n",
            "354/354 [==============================] - 0s 613us/step - loss: 7.6408e-04 - accuracy: 0.7551\n",
            "Epoch 113/200\n",
            "354/354 [==============================] - 0s 599us/step - loss: 9.1544e-04 - accuracy: 0.7508\n",
            "Epoch 114/200\n",
            "354/354 [==============================] - 0s 650us/step - loss: 0.0014 - accuracy: 0.7488\n",
            "Epoch 115/200\n",
            "354/354 [==============================] - 0s 598us/step - loss: 0.0025 - accuracy: 0.7540\n",
            "Epoch 116/200\n",
            "354/354 [==============================] - 0s 620us/step - loss: 1.3489e-04 - accuracy: 0.7503\n",
            "Epoch 117/200\n",
            "354/354 [==============================] - 0s 595us/step - loss: 0.0023 - accuracy: 0.7521\n",
            "Epoch 118/200\n",
            "354/354 [==============================] - 0s 592us/step - loss: 1.4809e-04 - accuracy: 0.7571\n",
            "Epoch 119/200\n",
            "354/354 [==============================] - 0s 596us/step - loss: 5.2485e-04 - accuracy: 0.7525\n",
            "Epoch 120/200\n",
            "354/354 [==============================] - 0s 663us/step - loss: 0.0040 - accuracy: 0.7642\n",
            "Epoch 121/200\n",
            "354/354 [==============================] - 0s 614us/step - loss: 8.8556e-05 - accuracy: 0.7597\n",
            "Epoch 122/200\n",
            "354/354 [==============================] - 0s 608us/step - loss: 5.6086e-04 - accuracy: 0.7463\n",
            "Epoch 123/200\n",
            "354/354 [==============================] - 0s 610us/step - loss: 0.0011 - accuracy: 0.7573\n",
            "Epoch 124/200\n",
            "354/354 [==============================] - 0s 749us/step - loss: 8.2788e-04 - accuracy: 0.7528\n",
            "Epoch 125/200\n",
            "354/354 [==============================] - 0s 653us/step - loss: 0.0020 - accuracy: 0.7484\n",
            "Epoch 126/200\n",
            "354/354 [==============================] - 0s 594us/step - loss: 0.0010 - accuracy: 0.7550\n",
            "Epoch 127/200\n",
            "354/354 [==============================] - 0s 597us/step - loss: 2.5259e-04 - accuracy: 0.7566\n",
            "Epoch 128/200\n",
            "354/354 [==============================] - 0s 624us/step - loss: 0.0048 - accuracy: 0.7595\n",
            "Epoch 129/200\n",
            "354/354 [==============================] - 0s 605us/step - loss: 8.3597e-05 - accuracy: 0.7556\n",
            "Epoch 130/200\n",
            "354/354 [==============================] - 0s 632us/step - loss: 7.0646e-05 - accuracy: 0.7486\n",
            "Epoch 131/200\n",
            "354/354 [==============================] - 0s 702us/step - loss: 5.3057e-04 - accuracy: 0.7542\n",
            "Epoch 132/200\n",
            "354/354 [==============================] - 0s 599us/step - loss: 9.1054e-04 - accuracy: 0.7633\n",
            "Epoch 133/200\n",
            "354/354 [==============================] - 0s 645us/step - loss: 0.0011 - accuracy: 0.7527\n",
            "Epoch 134/200\n",
            "354/354 [==============================] - 0s 615us/step - loss: 0.0019 - accuracy: 0.7574\n",
            "Epoch 135/200\n",
            "354/354 [==============================] - 0s 595us/step - loss: 2.1042e-04 - accuracy: 0.7574\n",
            "Epoch 136/200\n",
            "354/354 [==============================] - 0s 575us/step - loss: 0.0014 - accuracy: 0.7532\n",
            "Epoch 137/200\n",
            "354/354 [==============================] - 0s 588us/step - loss: 0.0011 - accuracy: 0.7476\n",
            "Epoch 138/200\n",
            "354/354 [==============================] - 0s 580us/step - loss: 5.5078e-04 - accuracy: 0.7568\n",
            "Epoch 139/200\n",
            "354/354 [==============================] - 0s 593us/step - loss: 7.8015e-04 - accuracy: 0.7561\n",
            "Epoch 140/200\n",
            "354/354 [==============================] - 0s 569us/step - loss: 7.7092e-04 - accuracy: 0.7580\n",
            "Epoch 141/200\n",
            "354/354 [==============================] - 0s 567us/step - loss: 0.0025 - accuracy: 0.7511\n",
            "Epoch 142/200\n",
            "354/354 [==============================] - 0s 602us/step - loss: 1.0089e-04 - accuracy: 0.7383\n",
            "Epoch 143/200\n",
            "354/354 [==============================] - 0s 633us/step - loss: 1.0355e-04 - accuracy: 0.7583\n",
            "Epoch 144/200\n",
            "354/354 [==============================] - 0s 614us/step - loss: 0.0017 - accuracy: 0.7534\n",
            "Epoch 145/200\n",
            "354/354 [==============================] - 0s 602us/step - loss: 3.7051e-04 - accuracy: 0.7468\n",
            "Epoch 146/200\n",
            "354/354 [==============================] - 0s 604us/step - loss: 8.5468e-04 - accuracy: 0.7543\n",
            "Epoch 147/200\n",
            "354/354 [==============================] - 0s 596us/step - loss: 4.1053e-04 - accuracy: 0.7550\n",
            "Epoch 148/200\n",
            "354/354 [==============================] - 0s 617us/step - loss: 0.0011 - accuracy: 0.7499\n",
            "Epoch 149/200\n",
            "354/354 [==============================] - 0s 956us/step - loss: 0.0015 - accuracy: 0.7553\n",
            "Epoch 150/200\n",
            "354/354 [==============================] - 0s 678us/step - loss: 6.2299e-04 - accuracy: 0.7510\n",
            "Epoch 151/200\n",
            "354/354 [==============================] - 0s 652us/step - loss: 0.0019 - accuracy: 0.7531\n",
            "Epoch 152/200\n",
            "354/354 [==============================] - 0s 626us/step - loss: 1.6277e-04 - accuracy: 0.7562\n",
            "Epoch 153/200\n",
            "354/354 [==============================] - 0s 716us/step - loss: 5.2344e-04 - accuracy: 0.7534\n",
            "Epoch 154/200\n",
            "354/354 [==============================] - 0s 616us/step - loss: 6.9922e-04 - accuracy: 0.7453\n",
            "Epoch 155/200\n",
            "354/354 [==============================] - 0s 597us/step - loss: 7.3288e-04 - accuracy: 0.7567\n",
            "Epoch 156/200\n",
            "354/354 [==============================] - 0s 614us/step - loss: 0.0010 - accuracy: 0.7542\n",
            "Epoch 157/200\n",
            "354/354 [==============================] - 0s 606us/step - loss: 3.9332e-04 - accuracy: 0.7478\n",
            "Epoch 158/200\n",
            "354/354 [==============================] - 0s 597us/step - loss: 9.8580e-04 - accuracy: 0.7527\n",
            "Epoch 159/200\n",
            "354/354 [==============================] - 0s 610us/step - loss: 0.0011 - accuracy: 0.7504\n",
            "Epoch 160/200\n",
            "354/354 [==============================] - 0s 642us/step - loss: 0.0018 - accuracy: 0.7534\n",
            "Epoch 161/200\n",
            "354/354 [==============================] - 0s 608us/step - loss: 9.4234e-05 - accuracy: 0.7572\n",
            "Epoch 162/200\n",
            "354/354 [==============================] - 0s 605us/step - loss: 1.6344e-04 - accuracy: 0.7469\n",
            "Epoch 163/200\n",
            "354/354 [==============================] - 0s 615us/step - loss: 0.0013 - accuracy: 0.7511\n",
            "Epoch 164/200\n",
            "354/354 [==============================] - 0s 598us/step - loss: 4.2113e-04 - accuracy: 0.7540\n",
            "Epoch 165/200\n",
            "354/354 [==============================] - 0s 609us/step - loss: 5.7027e-04 - accuracy: 0.7431\n",
            "Epoch 166/200\n",
            "354/354 [==============================] - 0s 613us/step - loss: 0.0025 - accuracy: 0.7527\n",
            "Epoch 167/200\n",
            "354/354 [==============================] - 0s 597us/step - loss: 2.5543e-04 - accuracy: 0.7594\n",
            "Epoch 168/200\n",
            "354/354 [==============================] - 0s 609us/step - loss: 1.0082e-04 - accuracy: 0.7580\n",
            "Epoch 169/200\n",
            "354/354 [==============================] - 0s 608us/step - loss: 5.4375e-04 - accuracy: 0.7515\n",
            "Epoch 170/200\n",
            "354/354 [==============================] - 0s 675us/step - loss: 4.7244e-04 - accuracy: 0.7568\n",
            "Epoch 171/200\n",
            "354/354 [==============================] - 0s 605us/step - loss: 7.9486e-04 - accuracy: 0.7552\n",
            "Epoch 172/200\n",
            "354/354 [==============================] - 0s 595us/step - loss: 0.0012 - accuracy: 0.7547\n",
            "Epoch 173/200\n",
            "354/354 [==============================] - 0s 606us/step - loss: 1.3864e-04 - accuracy: 0.7528\n",
            "Epoch 174/200\n",
            "354/354 [==============================] - 0s 699us/step - loss: 2.2478e-04 - accuracy: 0.7462\n",
            "Epoch 175/200\n",
            "354/354 [==============================] - 0s 744us/step - loss: 0.0020 - accuracy: 0.7512\n",
            "Epoch 176/200\n",
            "354/354 [==============================] - 0s 601us/step - loss: 1.1306e-04 - accuracy: 0.7528\n",
            "Epoch 177/200\n",
            "354/354 [==============================] - 0s 598us/step - loss: 0.0012 - accuracy: 0.7485\n",
            "Epoch 178/200\n",
            "354/354 [==============================] - 0s 620us/step - loss: 2.1425e-04 - accuracy: 0.7533\n",
            "Epoch 179/200\n",
            "354/354 [==============================] - 0s 670us/step - loss: 9.2734e-04 - accuracy: 0.7537\n",
            "Epoch 180/200\n",
            "354/354 [==============================] - 0s 606us/step - loss: 1.8338e-04 - accuracy: 0.7496\n",
            "Epoch 181/200\n",
            "354/354 [==============================] - 0s 606us/step - loss: 0.0016 - accuracy: 0.7585\n",
            "Epoch 182/200\n",
            "354/354 [==============================] - 0s 604us/step - loss: 4.7452e-05 - accuracy: 0.7473\n",
            "Epoch 183/200\n",
            "354/354 [==============================] - 0s 611us/step - loss: 5.8708e-04 - accuracy: 0.7577\n",
            "Epoch 184/200\n",
            "354/354 [==============================] - 0s 611us/step - loss: 0.0019 - accuracy: 0.7559\n",
            "Epoch 185/200\n",
            "354/354 [==============================] - 0s 600us/step - loss: 8.5892e-04 - accuracy: 0.7483\n",
            "Epoch 186/200\n",
            "354/354 [==============================] - 0s 612us/step - loss: 7.1136e-05 - accuracy: 0.7555\n",
            "Epoch 187/200\n",
            "354/354 [==============================] - 0s 602us/step - loss: 5.5682e-04 - accuracy: 0.7443\n",
            "Epoch 188/200\n",
            "354/354 [==============================] - 0s 672us/step - loss: 2.7030e-04 - accuracy: 0.7584\n",
            "Epoch 189/200\n",
            "354/354 [==============================] - 0s 627us/step - loss: 8.5622e-04 - accuracy: 0.7541\n",
            "Epoch 190/200\n",
            "354/354 [==============================] - 0s 607us/step - loss: 2.3798e-04 - accuracy: 0.7528\n",
            "Epoch 191/200\n",
            "354/354 [==============================] - 0s 601us/step - loss: 4.3889e-04 - accuracy: 0.7615\n",
            "Epoch 192/200\n",
            "354/354 [==============================] - 0s 596us/step - loss: 6.6255e-04 - accuracy: 0.7574\n",
            "Epoch 193/200\n",
            "354/354 [==============================] - 0s 734us/step - loss: 7.0311e-04 - accuracy: 0.7555\n",
            "Epoch 194/200\n",
            "354/354 [==============================] - 0s 600us/step - loss: 4.5617e-04 - accuracy: 0.7549\n",
            "Epoch 195/200\n",
            "354/354 [==============================] - 0s 631us/step - loss: 3.0838e-04 - accuracy: 0.7622\n",
            "Epoch 196/200\n",
            "354/354 [==============================] - 0s 626us/step - loss: 0.0010 - accuracy: 0.7538\n",
            "Epoch 197/200\n",
            "354/354 [==============================] - 0s 658us/step - loss: 1.5002e-04 - accuracy: 0.7579\n",
            "Epoch 198/200\n",
            "354/354 [==============================] - 0s 779us/step - loss: 0.0013 - accuracy: 0.7506\n",
            "Epoch 199/200\n",
            "354/354 [==============================] - 0s 611us/step - loss: 9.0798e-04 - accuracy: 0.7523\n",
            "Epoch 200/200\n",
            "354/354 [==============================] - 0s 829us/step - loss: 8.6044e-05 - accuracy: 0.7478\n"
          ]
        },
        {
          "data": {
            "text/plain": [
              "<keras.src.callbacks.History at 0x350eb00d0>"
            ]
          },
          "execution_count": 7,
          "metadata": {},
          "output_type": "execute_result"
        }
      ],
      "source": [
        "nn.fit(X_train, y_train, epochs=200)"
      ]
    },
    {
      "cell_type": "code",
      "execution_count": 8,
      "metadata": {
        "colab": {
          "base_uri": "https://localhost:8080/"
        },
        "id": "Sh32gt2UYOuG",
        "outputId": "376d7581-4d3c-4d90-c4b4-0c45a9e4e613"
      },
      "outputs": [
        {
          "name": "stdout",
          "output_type": "stream",
          "text": [
            "152/152 - 0s - loss: 6.3458e-04 - accuracy: 0.4886 - 219ms/epoch - 1ms/step\n"
          ]
        },
        {
          "data": {
            "text/plain": [
              "[0.0006345755537040532, 0.48855432868003845]"
            ]
          },
          "execution_count": 8,
          "metadata": {},
          "output_type": "execute_result"
        }
      ],
      "source": [
        "nn.evaluate(X_test,  y_test, verbose=2)"
      ]
    },
    {
      "cell_type": "code",
      "execution_count": 9,
      "metadata": {
        "id": "g_6BJH-hUncP"
      },
      "outputs": [
        {
          "name": "stderr",
          "output_type": "stream",
          "text": [
            "/Users/jason.debacker/anaconda3/envs/dynviz-dev/lib/python3.11/site-packages/keras/src/engine/training.py:3103: UserWarning: You are saving your model as an HDF5 file via `model.save()`. This file format is considered legacy. We recommend using instead the native Keras format, e.g. `model.save('my_model.keras')`.\n",
            "  saving_api.save_model(\n"
          ]
        }
      ],
      "source": [
        "# save full model - not just weights\n",
        "tf.keras.Model.save(nn, \"SL_model_full.h5\", save_format=\"h5\")"
      ]
    },
    {
      "cell_type": "code",
      "execution_count": 10,
      "metadata": {
        "id": "uuRupA3feDYr"
      },
      "outputs": [],
      "source": [
        "!tensorflowjs_converter --input_format=keras SL_model_full.h5 ./tf_model/"
      ]
    },
    {
      "cell_type": "code",
      "execution_count": 11,
      "metadata": {},
      "outputs": [],
      "source": [
        "# Read model back in\n",
        "model = keras.models.load_model(\"SL_model_full.h5\")"
      ]
    },
    {
      "cell_type": "code",
      "execution_count": 12,
      "metadata": {},
      "outputs": [
        {
          "name": "stdout",
          "output_type": "stream",
          "text": [
            "152/152 [==============================] - 0s 469us/step\n",
            "[[ 3.6908774  3.7228234]\n",
            " [ 5.058204   5.0879483]\n",
            " [ 6.3558087  6.4215407]\n",
            " ...\n",
            " [ 7.7550025  7.786715 ]\n",
            " [ 2.8876476  5.7926497]\n",
            " [ 6.659769  13.341977 ]]\n"
          ]
        }
      ],
      "source": [
        "# use model to make predictions\n",
        "predictions = model.predict(X_test)\n",
        "print(predictions)"
      ]
    },
    {
      "cell_type": "code",
      "execution_count": 13,
      "metadata": {},
      "outputs": [
        {
          "name": "stdout",
          "output_type": "stream",
          "text": [
            "1/1 [==============================] - 0s 12ms/step\n",
            "[4.7694187 4.803929 ]\n"
          ]
        }
      ],
      "source": [
        "# use model to make a single prediction\n",
        "x = np.array([[2.89386640e-02, 4.00000000e+01, 1.00000000e+01, 2.00000000e+01,\n",
        "       2.76861914e-01, 5.76141576e+00, 6.13201966e+00]])\n",
        "print(model.predict(x)[0]) # Print the first (only) result"
      ]
    }
  ],
  "metadata": {
    "colab": {
      "provenance": []
    },
    "kernelspec": {
      "display_name": "Python 3",
      "name": "python3"
    },
    "language_info": {
      "codemirror_mode": {
        "name": "ipython",
        "version": 3
      },
      "file_extension": ".py",
      "mimetype": "text/x-python",
      "name": "python",
      "nbconvert_exporter": "python",
      "pygments_lexer": "ipython3",
      "version": "3.11.10"
    }
  },
  "nbformat": 4,
  "nbformat_minor": 0
}
